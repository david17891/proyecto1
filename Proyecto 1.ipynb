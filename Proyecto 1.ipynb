{
 "cells": [
  {
   "cell_type": "markdown",
   "metadata": {},
   "source": [
    "### Proyecto 1: RL en vehiculo "
   ]
  },
  {
   "cell_type": "code",
   "execution_count": 1,
   "metadata": {},
   "outputs": [],
   "source": [
    "import numpy as np\n",
    "import matplotlib.pyplot as plt\n",
    "import scipy.io\n",
    "import math\n",
    "import time\n",
    "import matplotlib.pyplot as plt\n",
    "import pandas as pd\n",
    "\n",
    "\n",
    "# Estos vienen del curso de coursera\n",
    "import h5py\n",
    "import tensorflow as tf\n",
    "from tensorflow.python.framework import ops"
   ]
  },
  {
   "cell_type": "markdown",
   "metadata": {},
   "source": [
    "## Class to create static objects\n",
    "\n"
   ]
  },
  {
   "cell_type": "code",
   "execution_count": 37,
   "metadata": {},
   "outputs": [],
   "source": [
    "class static_obstacle:\n",
    "    \n",
    "    num_obs = 0\n",
    "\n",
    "    def __init__(self, name, pos_x, pos_y, color):   \n",
    "        self.name   = name\n",
    "        self.pos_x  = pos_x\n",
    "        self.pos_y  = pos_y\n",
    "        self.color  = color\n",
    "        static_obstacle.num_obs += 1\n",
    "   \n",
    "    def displayCount(self):\n",
    "        print (static_obstacle.num_obs)\n",
    "        \n",
    "\n",
    "    def displayObstacle(self):\n",
    "          print (\"Name : \", self.name,  \", Coordenate in x: \", self.pos_x, \", Coordenate in y: \", self.pos_y, \", Color: \", self.color)\n",
    "\n",
    "\n"
   ]
  },
  {
   "cell_type": "code",
   "execution_count": 42,
   "metadata": {},
   "outputs": [
    {
     "name": "stdout",
     "output_type": "stream",
     "text": [
      "Name :  car1 , Coordenate in x:  2 , Coordenate in y:  -5 , Color:  geen\n"
     ]
    }
   ],
   "source": [
    "a = static_obstacle('car1',2,-5,'red')\n",
    "b = static_obstacle('car2',1,-2,'blue')\n",
    "c = static_obstacle('car3',0, 0 , 'nero')\n",
    "a.color = 'geen'\n",
    "a.displayObstacle()"
   ]
  },
  {
   "cell_type": "markdown",
   "metadata": {},
   "source": [
    "## Action Selector\n",
    "\n",
    "La funcion para seleccionar acciones, abajo esta comentada la funcion para generar enteros aleatorios."
   ]
  },
  {
   "cell_type": "code",
   "execution_count": 2,
   "metadata": {},
   "outputs": [],
   "source": [
    "def action(num,sT):\n",
    "\n",
    "\n",
    "# add a hard constraint of 6 degrees per sec on the steering angle rate of change.\n",
    "\n",
    "    if num == 0:   \n",
    "    #muy a la izquierda\n",
    "        a = -(np.pi/30)*sT\n",
    "    elif num == 1:    \n",
    "        #Medio a la izquierda   \n",
    "        a = -(np.pi/60)*sT\n",
    "    elif num == 2:\n",
    "    # No angulo\n",
    "        a = 0\n",
    "    elif num == 3:  \n",
    "        #medio a la derecha\n",
    "        a = (np.pi/60)*sT  \n",
    "    elif num == 4:\n",
    "        # muy a la derecha\n",
    "        a = (np.pi/60)*sT\n",
    "\n",
    "    return a\n",
    "\n",
    "\n",
    "###print (np.random.randint(5, size=(1)))"
   ]
  },
  {
   "cell_type": "markdown",
   "metadata": {},
   "source": [
    "## Parameters\n",
    "\n",
    "Funcion para seleccionar acciones al azar"
   ]
  },
  {
   "cell_type": "code",
   "execution_count": 3,
   "metadata": {},
   "outputs": [],
   "source": [
    "#def parametros_car(): \n",
    "\n",
    "m = 1575\n",
    "I_z = 2875\n",
    "L_f = 1.2\n",
    "L_dr = 1.6\n",
    "C_f = 19000\n",
    "C_dr = 33000\n",
    "    \n",
    "parametros_car = {'m': m ,'I_z': I_z, 'L_f': L_f, 'L_dr' : L_dr, 'C_f' : C_f, 'C_dr' : C_dr}\n",
    "\n",
    "#    return parametros_car"
   ]
  },
  {
   "cell_type": "markdown",
   "metadata": {},
   "source": [
    "## Time\n",
    "\n",
    "Se definen los valores de tiempo de inicio, tiempo final y tiempo de muestreo"
   ]
  },
  {
   "cell_type": "code",
   "execution_count": 4,
   "metadata": {},
   "outputs": [
    {
     "name": "stdout",
     "output_type": "stream",
     "text": [
      "(3000, 1)\n"
     ]
    }
   ],
   "source": [
    "#Valores del tiempo y muestreo\n",
    "ti = 0\n",
    "tf = 30\n",
    "sT = .01\n",
    "\n",
    "c = int((tf-ti)/sT)\n",
    "\n",
    "t = np.linspace(ti,tf,c,endpoint=False)\n",
    "t = np.reshape(t,(t.shape[0],1))\n",
    "\n",
    "print (t.shape)"
   ]
  },
  {
   "cell_type": "markdown",
   "metadata": {},
   "source": [
    "### Dictionary with the systems states (initial states)"
   ]
  },
  {
   "cell_type": "code",
   "execution_count": 5,
   "metadata": {},
   "outputs": [],
   "source": [
    "def init_states(v_x0, v_y0, r_0, x_g0, Y_g0, theta0, t):\n",
    "\n",
    "    v_y = np.zeros(t.shape)\n",
    "    r = np.zeros(t.shape)\n",
    "    X_g = np.zeros(t.shape)\n",
    "    Y_g = np.zeros(t.shape)\n",
    "    theta = np.zeros(t.shape)\n",
    "\n",
    "    v_x = v_x0\n",
    "    v_y[0] = v_y0\n",
    "    r [0] = r_0\n",
    "    X_g[0] = x_g0\n",
    "    Y_g[0]= Y_g0\n",
    "    theta[0] = theta0\n",
    "\n",
    "\n",
    "    X_states={'v_x': v_x ,'v_y': v_y, 'r': r, 'X_g' : X_g, 'Y_g' : Y_g, 'theta' : theta}\n",
    "    \n",
    "    return X_states"
   ]
  },
  {
   "cell_type": "markdown",
   "metadata": {},
   "source": [
    "## Target"
   ]
  },
  {
   "cell_type": "code",
   "execution_count": 6,
   "metadata": {},
   "outputs": [],
   "source": [
    "def target(reward, gamma, Q_next):\n",
    "    \n",
    "    target = reward + gamma * Q_next\n",
    "    \n",
    "    \n",
    "    return target"
   ]
  },
  {
   "cell_type": "markdown",
   "metadata": {},
   "source": [
    "### Cost Function"
   ]
  },
  {
   "cell_type": "code",
   "execution_count": 7,
   "metadata": {},
   "outputs": [],
   "source": [
    "def cost(target, Q_actual):\n",
    "    \"\"\"\n",
    "    Computes the cost for deep Q learning  \n",
    "    \n",
    "    Returns:\n",
    "    cost -- runs the session of the cost (formula (2))\n",
    "    \"\"\"\n",
    "    \n",
    "    ### START CODE HERE ### \n",
    "    \n",
    "    # Create the placeholders \n",
    "    y = tf.placeholder(tf.float32, name = \"y\")\n",
    "    y_hat = tf.placeholder(tf.float32, name = \"y_hat\")\n",
    "    \n",
    "    # Use the loss function \n",
    "    #cost = tf.nn.sigmoid_cross_entropy_with_logits(labels= y, logits= z)\n",
    "    cost = tf.losses.mean_squared_error(labels = target, predictions = y_hat )\n",
    "    \n",
    "    # Create a session (approx. 1 line). See method 1 above.\n",
    "    sess = tf.Session()\n",
    "    \n",
    "    # Run the session (approx. 1 line).\n",
    "    cost = sess.run(cost, feed_dict= {y_hat : Q_actual , y : target})\n",
    "    \n",
    "    # Close the session (approx. 1 line). See method 1 above.\n",
    "    sess.close()\n",
    "        \n",
    "    return cost"
   ]
  },
  {
   "cell_type": "markdown",
   "metadata": {},
   "source": [
    "### Vehicle Model"
   ]
  },
  {
   "cell_type": "code",
   "execution_count": 8,
   "metadata": {},
   "outputs": [],
   "source": [
    "def car_model(X_states, parametros_car, action, t):\n",
    "\n",
    "        df = action\n",
    "        i = t\n",
    "    \n",
    "        v_x   = X_states['v_x']\n",
    "        v_y   = X_states['v_y']\n",
    "        r     = X_states['r']\n",
    "        X_g   = X_states['X_g']\n",
    "        Y_g   = X_states['Y_g']\n",
    "        theta = X_states['theta']\n",
    "        \n",
    "        m    =  parametros_car['m']\n",
    "        I_z  = parametros_car['I_z']\n",
    "        L_f  = parametros_car['L_f']\n",
    "        L_dr = parametros_car['L_dr']\n",
    "        C_f  = parametros_car['C_f']\n",
    "        C_dr = parametros_car['C_dr']\n",
    "\n",
    "        \n",
    "\n",
    "        a_f = v_y[i] + (L_f * r[i]) / v_x - d_f #Slip angle fdront\n",
    "        a_dr = v_y[i] - (L_dr * r[i]) / v_x\n",
    "\n",
    "        Fyf = -C_f * a_f\n",
    "        Fydr = -C_dr * a_dr\n",
    "\n",
    "        dv_y = (Fyf / m) * np.cos(d_f) + (Fydr/m) - v_x * r[i]\n",
    "        dr   = (L_f / I_z) * (Fyf) * np.cos(d_f) - (L_dr / I_z) * Fydr\n",
    "\n",
    "        # Cambio de coordenadas\n",
    "\n",
    "\n",
    "\n",
    "        dX_g = (v_x * np.cos(theta[i]) - v_y[i] * np.sin(theta[i]))\n",
    "        dY_g =(v_x * np.sin(theta[i]) + v_y[i] * np.cos(theta[i]))\n",
    "        dtheta = r[i]\n",
    "\n",
    "        v_y[i+1]  =v_y[i] + sT * dv_y\n",
    "        r[i+1] = r[i] + sT * dr\n",
    "        X_g[i+1] =X_g[i] + sT * dX_g\n",
    "        Y_g[i+1] = Y_g[i] + sT * dY_g\n",
    "        theta[i+1] = theta[i] + sT * dtheta\n",
    "    \n",
    "        X_states={'v_x': v_x ,'v_y': v_y, 'r': r, 'X_g' : X_g, 'Y_g' : Y_g, 'theta' : theta}\n",
    "    \n",
    "        return X_states\n",
    "    \n",
    "#     if  i % 100 == 0:\n",
    "#         plt.plot(X_g[i],Y_g[i],'*')\n"
   ]
  },
  {
   "cell_type": "markdown",
   "metadata": {},
   "source": [
    "### Test for the model"
   ]
  },
  {
   "cell_type": "code",
   "execution_count": 9,
   "metadata": {},
   "outputs": [
    {
     "data": {
      "image/png": "[encoded data removed]",
      "text/plain": [
       "<Figure size 432x288 with 1 Axes>"
      ]
     },
     "metadata": {},
     "output_type": "display_data"
    }
   ],
   "source": [
    "X_states = init_states(v_x0 = 10 , v_y0 = 0 , r_0 = 0 , x_g0 = 0, Y_g0 = 0, theta0 = 0, t = t)\n",
    "\n",
    "\n",
    "for episodes in range(10):\n",
    "    d_f = 0.01 * episodes\n",
    "    for i in range(len(t) -1 ):\n",
    "        X_states = car_model(X_states, parametros_car, action = d_f, t = i)\n",
    "        \n",
    "            \n",
    "            \n",
    "\n",
    "    plt.plot(X_states['X_g'],X_states['Y_g'])\n",
    "    "
   ]
  },
  {
   "cell_type": "code",
   "execution_count": null,
   "metadata": {},
   "outputs": [],
   "source": []
  }
 ],
 "metadata": {
  "kernelspec": {
   "display_name": "Python 3",
   "language": "python",
   "name": "python3"
  },
  "language_info": {
   "codemirror_mode": {
    "name": "ipython",
    "version": 3
   },
   "file_extension": ".py",
   "mimetype": "text/x-python",
   "name": "python",
   "nbconvert_exporter": "python",
   "pygments_lexer": "ipython3",
   "version": "3.6.6"
  }
 },
 "nbformat": 4,
 "nbformat_minor": 2
}
